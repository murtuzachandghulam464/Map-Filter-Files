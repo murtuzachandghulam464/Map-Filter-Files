{
 "cells": [
  {
   "cell_type": "markdown",
   "id": "43b3b82a",
   "metadata": {},
   "source": [
    "## Map()"
   ]
  },
  {
   "cell_type": "code",
   "execution_count": 18,
   "id": "a57db979",
   "metadata": {},
   "outputs": [],
   "source": [
    "def total_marks(marks):\n",
    "    if marks == 30:\n",
    "        return (marks +5)\n",
    "    if marks == 31:\n",
    "        return (marks +4)\n",
    "    if marks == 32:\n",
    "        return (marks +3)\n",
    "    if marks == 33:\n",
    "        return (marks +2)\n",
    "    if marks == 34:\n",
    "        return (marks +1)\n",
    "    else:\n",
    "        pass"
   ]
  },
  {
   "cell_type": "code",
   "execution_count": 19,
   "id": "368bcc7a",
   "metadata": {},
   "outputs": [],
   "source": [
    "score = [32,65,33,31,58,48,30,25,72,82,35,34]"
   ]
  },
  {
   "cell_type": "code",
   "execution_count": 20,
   "id": "0843cf1b",
   "metadata": {},
   "outputs": [
    {
     "data": {
      "text/plain": [
       "[35, None, 35, 35, None, None, 35, None, None, None, None, 35]"
      ]
     },
     "execution_count": 20,
     "metadata": {},
     "output_type": "execute_result"
    }
   ],
   "source": [
    "total = list(map(total_marks,score))\n",
    "total"
   ]
  },
  {
   "cell_type": "code",
   "execution_count": 21,
   "id": "61dffccf",
   "metadata": {},
   "outputs": [
    {
     "data": {
      "text/plain": [
       "5"
      ]
     },
     "execution_count": 21,
     "metadata": {},
     "output_type": "execute_result"
    }
   ],
   "source": [
    "# count of students who got grace marks\n",
    "total.count(35)"
   ]
  },
  {
   "cell_type": "markdown",
   "id": "3b57c4a0",
   "metadata": {},
   "source": [
    "## Filter"
   ]
  },
  {
   "cell_type": "code",
   "execution_count": null,
   "id": "5f7835d8",
   "metadata": {},
   "outputs": [],
   "source": [
    "# def even_check(num):\n",
    "    if num % 2 == 0:\n",
    "        return True"
   ]
  },
  {
   "cell_type": "code",
   "execution_count": 2,
   "id": "e9ee0bb7",
   "metadata": {},
   "outputs": [
    {
     "data": {
      "text/plain": [
       "[0, 2, 4, 6, 8, 10, 12, 14, 16, 18, 20, 22, 24, 26, 28, 30, 32, 34, 36, 38]"
      ]
     },
     "execution_count": 2,
     "metadata": {},
     "output_type": "execute_result"
    }
   ],
   "source": [
    "lst = range(40)\n",
    "list(filter(even_check,lst))"
   ]
  },
  {
   "cell_type": "code",
   "execution_count": 3,
   "id": "5cab8ab0",
   "metadata": {},
   "outputs": [
    {
     "data": {
      "text/plain": [
       "[0, 2, 4, 6, 8, 10, 12, 14, 16, 18, 20, 22, 24, 26, 28, 30, 32, 34, 36, 38]"
      ]
     },
     "execution_count": 3,
     "metadata": {},
     "output_type": "execute_result"
    }
   ],
   "source": [
    "list(filter(lambda x:x%2==0,lst))"
   ]
  },
  {
   "cell_type": "code",
   "execution_count": 27,
   "id": "e324cc94",
   "metadata": {},
   "outputs": [],
   "source": [
    "def total_marks(marks):\n",
    "    if marks<35:  # here I write the code of less than 35 marks\n",
    "        return True"
   ]
  },
  {
   "cell_type": "code",
   "execution_count": 28,
   "id": "397b3ed5",
   "metadata": {},
   "outputs": [],
   "source": [
    "score = [32,65,33,31,58,48,30,25,72,82,35,34]"
   ]
  },
  {
   "cell_type": "code",
   "execution_count": 29,
   "id": "10039bde",
   "metadata": {},
   "outputs": [],
   "source": [
    "failed = list(filter(total_marks,score)) # I reassign the score data in marks and filter a/c to the condition"
   ]
  },
  {
   "cell_type": "code",
   "execution_count": 30,
   "id": "25626d23",
   "metadata": {},
   "outputs": [
    {
     "data": {
      "text/plain": [
       "[32, 33, 31, 30, 25, 34]"
      ]
     },
     "execution_count": 30,
     "metadata": {},
     "output_type": "execute_result"
    }
   ],
   "source": [
    "failed"
   ]
  },
  {
   "cell_type": "markdown",
   "id": "1333693c",
   "metadata": {},
   "source": [
    "## Files"
   ]
  },
  {
   "cell_type": "markdown",
   "id": "e28d9120",
   "metadata": {},
   "source": [
    "####      creating a file"
   ]
  },
  {
   "cell_type": "code",
   "execution_count": 57,
   "id": "7e614d4d",
   "metadata": {},
   "outputs": [
    {
     "name": "stdout",
     "output_type": "stream",
     "text": [
      "Overwriting test1837.txt\n"
     ]
    }
   ],
   "source": [
    "%%writefile test1837.txt        \n",
    "Hello its Ghulam Murtuza"
   ]
  },
  {
   "cell_type": "code",
   "execution_count": 58,
   "id": "d218d099",
   "metadata": {},
   "outputs": [],
   "source": [
    "# opening a file\n",
    "my_file = open ('test1837.txt')"
   ]
  },
  {
   "cell_type": "code",
   "execution_count": 59,
   "id": "b0d985db",
   "metadata": {},
   "outputs": [
    {
     "data": {
      "text/plain": [
       "'Hello its Ghulam Murtuza\\n'"
      ]
     },
     "execution_count": 59,
     "metadata": {},
     "output_type": "execute_result"
    }
   ],
   "source": [
    "# to read a file\n",
    "my_file.read()"
   ]
  },
  {
   "cell_type": "code",
   "execution_count": 60,
   "id": "4f9a393f",
   "metadata": {},
   "outputs": [
    {
     "data": {
      "text/plain": [
       "''"
      ]
     },
     "execution_count": 60,
     "metadata": {},
     "output_type": "execute_result"
    }
   ],
   "source": [
    "# here no lines remain in the file that's why it shows empty\n",
    "my_file.read()"
   ]
  },
  {
   "cell_type": "code",
   "execution_count": 61,
   "id": "40d91519",
   "metadata": {},
   "outputs": [
    {
     "data": {
      "text/plain": [
       "0"
      ]
     },
     "execution_count": 61,
     "metadata": {},
     "output_type": "execute_result"
    }
   ],
   "source": [
    "# to read the file again we need to move the cursour on thr 0th index.\n",
    "my_file.seek(0)\n",
    "# here o is index no."
   ]
  },
  {
   "cell_type": "code",
   "execution_count": 62,
   "id": "27ce53ad",
   "metadata": {},
   "outputs": [
    {
     "data": {
      "text/plain": [
       "'Hello its Ghulam Murtuza\\n'"
      ]
     },
     "execution_count": 62,
     "metadata": {},
     "output_type": "execute_result"
    }
   ],
   "source": [
    "# now iI can again read the file from the 0th index\n",
    "my_file.read()"
   ]
  },
  {
   "cell_type": "code",
   "execution_count": 63,
   "id": "ce4a4bce",
   "metadata": {},
   "outputs": [
    {
     "data": {
      "text/plain": [
       "5"
      ]
     },
     "execution_count": 63,
     "metadata": {},
     "output_type": "execute_result"
    }
   ],
   "source": [
    "# here I move to cursour on 5th index no. so I can read the file only from 5th index\n",
    "my_file.seek(5)"
   ]
  },
  {
   "cell_type": "code",
   "execution_count": 64,
   "id": "e16a5c73",
   "metadata": {},
   "outputs": [
    {
     "data": {
      "text/plain": [
       "' its Ghulam Murtuza\\n'"
      ]
     },
     "execution_count": 64,
     "metadata": {},
     "output_type": "execute_result"
    }
   ],
   "source": [
    "my_file.read()"
   ]
  },
  {
   "cell_type": "code",
   "execution_count": 66,
   "id": "56508b4a",
   "metadata": {},
   "outputs": [
    {
     "data": {
      "text/plain": [
       "0"
      ]
     },
     "execution_count": 66,
     "metadata": {},
     "output_type": "execute_result"
    }
   ],
   "source": [
    "my_file.seek(0)"
   ]
  },
  {
   "cell_type": "code",
   "execution_count": 67,
   "id": "723130dd",
   "metadata": {},
   "outputs": [
    {
     "data": {
      "text/plain": [
       "['Hello its Ghulam Murtuza\\n']"
      ]
     },
     "execution_count": 67,
     "metadata": {},
     "output_type": "execute_result"
    }
   ],
   "source": [
    "my_file.readlines()"
   ]
  },
  {
   "cell_type": "code",
   "execution_count": 68,
   "id": "11a2a4a3",
   "metadata": {},
   "outputs": [],
   "source": [
    "# to close a file\n",
    "my_file.close()"
   ]
  },
  {
   "cell_type": "markdown",
   "id": "14c4fe6e",
   "metadata": {},
   "source": [
    "##### How can I writting on a file"
   ]
  },
  {
   "cell_type": "code",
   "execution_count": 69,
   "id": "932e7aef",
   "metadata": {},
   "outputs": [],
   "source": [
    "my_file = open('Test.txt','w')"
   ]
  },
  {
   "cell_type": "code",
   "execution_count": 70,
   "id": "68b2a2b7",
   "metadata": {},
   "outputs": [
    {
     "data": {
      "text/plain": [
       "13"
      ]
     },
     "execution_count": 70,
     "metadata": {},
     "output_type": "execute_result"
    }
   ],
   "source": [
    "my_file.write('Never give up')"
   ]
  },
  {
   "cell_type": "code",
   "execution_count": 71,
   "id": "78bef1a1",
   "metadata": {},
   "outputs": [],
   "source": [
    "my_file.close()"
   ]
  },
  {
   "cell_type": "code",
   "execution_count": null,
   "id": "5e2664a5",
   "metadata": {},
   "outputs": [],
   "source": [
    "# %%writefile test.txt\n",
    "My name is Ghulam Murtuza.\n",
    "My father name is Ghulam Nabi.\n",
    "I belong to Barauni,Begusarai, Bihar.\n",
    "I am persuing Data Science course. "
   ]
  },
  {
   "cell_type": "code",
   "execution_count": 73,
   "id": "e13ce1f4",
   "metadata": {},
   "outputs": [
    {
     "name": "stdout",
     "output_type": "stream",
     "text": [
      "My name is Ghulam Murtuza.\n",
      "\n",
      "My father name is Ghulam Nabi.\n",
      "\n",
      "I belong to Barauni,Begusarai, Bihar.\n",
      "\n",
      "I am persuing Data Science course. \n",
      "\n"
     ]
    }
   ],
   "source": [
    "for line in open('test.txt'):\n",
    "    print(line)"
   ]
  },
  {
   "cell_type": "markdown",
   "id": "a72c196e",
   "metadata": {},
   "source": [
    "### Modules and Packages "
   ]
  },
  {
   "cell_type": "code",
   "execution_count": 74,
   "id": "f0050301",
   "metadata": {},
   "outputs": [],
   "source": [
    "import math"
   ]
  },
  {
   "cell_type": "code",
   "execution_count": 75,
   "id": "f23099f3",
   "metadata": {},
   "outputs": [
    {
     "name": "stdout",
     "output_type": "stream",
     "text": [
      "['__doc__', '__loader__', '__name__', '__package__', '__spec__', 'acos', 'acosh', 'asin', 'asinh', 'atan', 'atan2', 'atanh', 'ceil', 'comb', 'copysign', 'cos', 'cosh', 'degrees', 'dist', 'e', 'erf', 'erfc', 'exp', 'expm1', 'fabs', 'factorial', 'floor', 'fmod', 'frexp', 'fsum', 'gamma', 'gcd', 'hypot', 'inf', 'isclose', 'isfinite', 'isinf', 'isnan', 'isqrt', 'lcm', 'ldexp', 'lgamma', 'log', 'log10', 'log1p', 'log2', 'modf', 'nan', 'nextafter', 'perm', 'pi', 'pow', 'prod', 'radians', 'remainder', 'sin', 'sinh', 'sqrt', 'tan', 'tanh', 'tau', 'trunc', 'ulp']\n"
     ]
    }
   ],
   "source": [
    "print (dir(math))"
   ]
  },
  {
   "cell_type": "code",
   "execution_count": 76,
   "id": "2c71460e",
   "metadata": {},
   "outputs": [
    {
     "data": {
      "text/plain": [
       "10.0"
      ]
     },
     "execution_count": 76,
     "metadata": {},
     "output_type": "execute_result"
    }
   ],
   "source": [
    "math.sqrt(100)"
   ]
  },
  {
   "cell_type": "code",
   "execution_count": 78,
   "id": "9436a914",
   "metadata": {},
   "outputs": [
    {
     "ename": "NameError",
     "evalue": "name 'sqrt' is not defined",
     "output_type": "error",
     "traceback": [
      "\u001b[1;31m---------------------------------------------------------------------------\u001b[0m",
      "\u001b[1;31mNameError\u001b[0m                                 Traceback (most recent call last)",
      "\u001b[1;32mC:\\Users\\GHULAM~1\\AppData\\Local\\Temp/ipykernel_972/1863724715.py\u001b[0m in \u001b[0;36m<module>\u001b[1;34m\u001b[0m\n\u001b[1;32m----> 1\u001b[1;33m \u001b[0msqrt\u001b[0m\u001b[1;33m(\u001b[0m\u001b[1;36m100\u001b[0m\u001b[1;33m)\u001b[0m \u001b[1;31m# it will not work\u001b[0m\u001b[1;33m\u001b[0m\u001b[1;33m\u001b[0m\u001b[0m\n\u001b[0m",
      "\u001b[1;31mNameError\u001b[0m: name 'sqrt' is not defined"
     ]
    }
   ],
   "source": [
    "sqrt(100) # it will not work"
   ]
  },
  {
   "cell_type": "code",
   "execution_count": 83,
   "id": "685f4ffe",
   "metadata": {},
   "outputs": [],
   "source": [
    "from math import sqrt # if I import the sqrt from math library then it will direct work."
   ]
  },
  {
   "cell_type": "code",
   "execution_count": 84,
   "id": "9ba707c5",
   "metadata": {},
   "outputs": [
    {
     "data": {
      "text/plain": [
       "10.0"
      ]
     },
     "execution_count": 84,
     "metadata": {},
     "output_type": "execute_result"
    }
   ],
   "source": [
    "sqrt(100)"
   ]
  },
  {
   "cell_type": "code",
   "execution_count": 79,
   "id": "d04a439c",
   "metadata": {},
   "outputs": [
    {
     "data": {
      "text/plain": [
       "0.8939966636005579"
      ]
     },
     "execution_count": 79,
     "metadata": {},
     "output_type": "execute_result"
    }
   ],
   "source": [
    "math.sin(90)"
   ]
  },
  {
   "cell_type": "code",
   "execution_count": 80,
   "id": "367615b5",
   "metadata": {},
   "outputs": [
    {
     "data": {
      "text/plain": [
       "1.6197751905438615"
      ]
     },
     "execution_count": 80,
     "metadata": {},
     "output_type": "execute_result"
    }
   ],
   "source": [
    "math.tan(45)"
   ]
  },
  {
   "cell_type": "code",
   "execution_count": 85,
   "id": "174f75cd",
   "metadata": {},
   "outputs": [],
   "source": [
    "import numpy"
   ]
  },
  {
   "cell_type": "code",
   "execution_count": 86,
   "id": "9ecf599c",
   "metadata": {},
   "outputs": [
    {
     "name": "stdout",
     "output_type": "stream",
     "text": [
      "['ALLOW_THREADS', 'AxisError', 'BUFSIZE', 'Bytes0', 'CLIP', 'ComplexWarning', 'DataSource', 'Datetime64', 'ERR_CALL', 'ERR_DEFAULT', 'ERR_IGNORE', 'ERR_LOG', 'ERR_PRINT', 'ERR_RAISE', 'ERR_WARN', 'FLOATING_POINT_SUPPORT', 'FPE_DIVIDEBYZERO', 'FPE_INVALID', 'FPE_OVERFLOW', 'FPE_UNDERFLOW', 'False_', 'Inf', 'Infinity', 'MAXDIMS', 'MAY_SHARE_BOUNDS', 'MAY_SHARE_EXACT', 'MachAr', 'ModuleDeprecationWarning', 'NAN', 'NINF', 'NZERO', 'NaN', 'PINF', 'PZERO', 'RAISE', 'RankWarning', 'SHIFT_DIVIDEBYZERO', 'SHIFT_INVALID', 'SHIFT_OVERFLOW', 'SHIFT_UNDERFLOW', 'ScalarType', 'Str0', 'Tester', 'TooHardError', 'True_', 'UFUNC_BUFSIZE_DEFAULT', 'UFUNC_PYVALS_NAME', 'Uint64', 'VisibleDeprecationWarning', 'WRAP', '_NoValue', '_UFUNC_API', '__NUMPY_SETUP__', '__all__', '__builtins__', '__cached__', '__config__', '__deprecated_attrs__', '__dir__', '__doc__', '__expired_functions__', '__file__', '__getattr__', '__git_revision__', '__loader__', '__mkl_version__', '__name__', '__package__', '__path__', '__spec__', '__version__', '_add_newdoc_ufunc', '_distributor_init', '_financial_names', '_globals', '_mat', '_pytesttester', 'abs', 'absolute', 'add', 'add_docstring', 'add_newdoc', 'add_newdoc_ufunc', 'alen', 'all', 'allclose', 'alltrue', 'amax', 'amin', 'angle', 'any', 'append', 'apply_along_axis', 'apply_over_axes', 'arange', 'arccos', 'arccosh', 'arcsin', 'arcsinh', 'arctan', 'arctan2', 'arctanh', 'argmax', 'argmin', 'argpartition', 'argsort', 'argwhere', 'around', 'array', 'array2string', 'array_equal', 'array_equiv', 'array_repr', 'array_split', 'array_str', 'asanyarray', 'asarray', 'asarray_chkfinite', 'ascontiguousarray', 'asfarray', 'asfortranarray', 'asmatrix', 'asscalar', 'atleast_1d', 'atleast_2d', 'atleast_3d', 'average', 'bartlett', 'base_repr', 'binary_repr', 'bincount', 'bitwise_and', 'bitwise_not', 'bitwise_or', 'bitwise_xor', 'blackman', 'block', 'bmat', 'bool8', 'bool_', 'broadcast', 'broadcast_arrays', 'broadcast_shapes', 'broadcast_to', 'busday_count', 'busday_offset', 'busdaycalendar', 'byte', 'byte_bounds', 'bytes0', 'bytes_', 'c_', 'can_cast', 'cast', 'cbrt', 'cdouble', 'ceil', 'cfloat', 'char', 'character', 'chararray', 'choose', 'clip', 'clongdouble', 'clongfloat', 'column_stack', 'common_type', 'compare_chararrays', 'compat', 'complex128', 'complex64', 'complex_', 'complexfloating', 'compress', 'concatenate', 'conj', 'conjugate', 'convolve', 'copy', 'copysign', 'copyto', 'core', 'corrcoef', 'correlate', 'cos', 'cosh', 'count_nonzero', 'cov', 'cross', 'csingle', 'ctypeslib', 'cumprod', 'cumproduct', 'cumsum', 'datetime64', 'datetime_as_string', 'datetime_data', 'deg2rad', 'degrees', 'delete', 'deprecate', 'deprecate_with_doc', 'diag', 'diag_indices', 'diag_indices_from', 'diagflat', 'diagonal', 'diff', 'digitize', 'disp', 'divide', 'divmod', 'dot', 'double', 'dsplit', 'dstack', 'dtype', 'e', 'ediff1d', 'einsum', 'einsum_path', 'emath', 'empty', 'empty_like', 'equal', 'errstate', 'euler_gamma', 'exp', 'exp2', 'expand_dims', 'expm1', 'extract', 'eye', 'fabs', 'fastCopyAndTranspose', 'fft', 'fill_diagonal', 'find_common_type', 'finfo', 'fix', 'flatiter', 'flatnonzero', 'flexible', 'flip', 'fliplr', 'flipud', 'float16', 'float32', 'float64', 'float_', 'float_power', 'floating', 'floor', 'floor_divide', 'fmax', 'fmin', 'fmod', 'format_float_positional', 'format_float_scientific', 'format_parser', 'frexp', 'frombuffer', 'fromfile', 'fromfunction', 'fromiter', 'frompyfunc', 'fromregex', 'fromstring', 'full', 'full_like', 'gcd', 'generic', 'genfromtxt', 'geomspace', 'get_array_wrap', 'get_include', 'get_printoptions', 'getbufsize', 'geterr', 'geterrcall', 'geterrobj', 'gradient', 'greater', 'greater_equal', 'half', 'hamming', 'hanning', 'heaviside', 'histogram', 'histogram2d', 'histogram_bin_edges', 'histogramdd', 'hsplit', 'hstack', 'hypot', 'i0', 'identity', 'iinfo', 'imag', 'in1d', 'index_exp', 'indices', 'inexact', 'inf', 'info', 'infty', 'inner', 'insert', 'int0', 'int16', 'int32', 'int64', 'int8', 'int_', 'intc', 'integer', 'interp', 'intersect1d', 'intp', 'invert', 'is_busday', 'isclose', 'iscomplex', 'iscomplexobj', 'isfinite', 'isfortran', 'isin', 'isinf', 'isnan', 'isnat', 'isneginf', 'isposinf', 'isreal', 'isrealobj', 'isscalar', 'issctype', 'issubclass_', 'issubdtype', 'issubsctype', 'iterable', 'ix_', 'kaiser', 'kron', 'lcm', 'ldexp', 'left_shift', 'less', 'less_equal', 'lexsort', 'lib', 'linalg', 'linspace', 'little_endian', 'load', 'loads', 'loadtxt', 'log', 'log10', 'log1p', 'log2', 'logaddexp', 'logaddexp2', 'logical_and', 'logical_not', 'logical_or', 'logical_xor', 'logspace', 'longcomplex', 'longdouble', 'longfloat', 'longlong', 'lookfor', 'ma', 'mafromtxt', 'mask_indices', 'mat', 'math', 'matmul', 'matrix', 'matrixlib', 'max', 'maximum', 'maximum_sctype', 'may_share_memory', 'mean', 'median', 'memmap', 'meshgrid', 'mgrid', 'min', 'min_scalar_type', 'minimum', 'mintypecode', 'mkl', 'mod', 'modf', 'moveaxis', 'msort', 'multiply', 'nan', 'nan_to_num', 'nanargmax', 'nanargmin', 'nancumprod', 'nancumsum', 'nanmax', 'nanmean', 'nanmedian', 'nanmin', 'nanpercentile', 'nanprod', 'nanquantile', 'nanstd', 'nansum', 'nanvar', 'nbytes', 'ndarray', 'ndenumerate', 'ndfromtxt', 'ndim', 'ndindex', 'nditer', 'negative', 'nested_iters', 'newaxis', 'nextafter', 'nonzero', 'not_equal', 'numarray', 'number', 'obj2sctype', 'object0', 'object_', 'ogrid', 'oldnumeric', 'ones', 'ones_like', 'os', 'outer', 'packbits', 'pad', 'partition', 'percentile', 'pi', 'piecewise', 'place', 'poly', 'poly1d', 'polyadd', 'polyder', 'polydiv', 'polyfit', 'polyint', 'polymul', 'polynomial', 'polysub', 'polyval', 'positive', 'power', 'printoptions', 'prod', 'product', 'promote_types', 'ptp', 'put', 'put_along_axis', 'putmask', 'quantile', 'r_', 'rad2deg', 'radians', 'random', 'ravel', 'ravel_multi_index', 'real', 'real_if_close', 'rec', 'recarray', 'recfromcsv', 'recfromtxt', 'reciprocal', 'record', 'remainder', 'repeat', 'require', 'reshape', 'resize', 'result_type', 'right_shift', 'rint', 'roll', 'rollaxis', 'roots', 'rot90', 'round', 'round_', 'row_stack', 's_', 'safe_eval', 'save', 'savetxt', 'savez', 'savez_compressed', 'sctype2char', 'sctypeDict', 'sctypes', 'searchsorted', 'select', 'set_numeric_ops', 'set_printoptions', 'set_string_function', 'setbufsize', 'setdiff1d', 'seterr', 'seterrcall', 'seterrobj', 'setxor1d', 'shape', 'shares_memory', 'short', 'show_config', 'sign', 'signbit', 'signedinteger', 'sin', 'sinc', 'single', 'singlecomplex', 'sinh', 'size', 'sometrue', 'sort', 'sort_complex', 'source', 'spacing', 'split', 'sqrt', 'square', 'squeeze', 'stack', 'std', 'str0', 'str_', 'string_', 'subtract', 'sum', 'swapaxes', 'sys', 'take', 'take_along_axis', 'tan', 'tanh', 'tensordot', 'test', 'testing', 'tile', 'timedelta64', 'trace', 'tracemalloc_domain', 'transpose', 'trapz', 'tri', 'tril', 'tril_indices', 'tril_indices_from', 'trim_zeros', 'triu', 'triu_indices', 'triu_indices_from', 'true_divide', 'trunc', 'typeDict', 'typecodes', 'typename', 'ubyte', 'ufunc', 'uint', 'uint0', 'uint16', 'uint32', 'uint64', 'uint8', 'uintc', 'uintp', 'ulonglong', 'unicode_', 'union1d', 'unique', 'unpackbits', 'unravel_index', 'unsignedinteger', 'unwrap', 'use_hugepage', 'ushort', 'vander', 'var', 'vdot', 'vectorize', 'version', 'void', 'void0', 'vsplit', 'vstack', 'warnings', 'where', 'who', 'zeros', 'zeros_like']\n"
     ]
    }
   ],
   "source": [
    "print(dir(numpy))"
   ]
  },
  {
   "cell_type": "code",
   "execution_count": 87,
   "id": "ac12cca4",
   "metadata": {},
   "outputs": [
    {
     "data": {
      "text/plain": [
       "400"
      ]
     },
     "execution_count": 87,
     "metadata": {},
     "output_type": "execute_result"
    }
   ],
   "source": [
    "numpy.square(20)"
   ]
  },
  {
   "cell_type": "code",
   "execution_count": 92,
   "id": "949f1d50",
   "metadata": {},
   "outputs": [
    {
     "data": {
      "text/plain": [
       "400"
      ]
     },
     "execution_count": 92,
     "metadata": {},
     "output_type": "execute_result"
    }
   ],
   "source": [
    "square (20) #It will not be work"
   ]
  },
  {
   "cell_type": "code",
   "execution_count": 93,
   "id": "e5f68bc1",
   "metadata": {},
   "outputs": [],
   "source": [
    "from numpy import square "
   ]
  },
  {
   "cell_type": "code",
   "execution_count": 94,
   "id": "a9a766ca",
   "metadata": {},
   "outputs": [
    {
     "data": {
      "text/plain": [
       "400"
      ]
     },
     "execution_count": 94,
     "metadata": {},
     "output_type": "execute_result"
    }
   ],
   "source": [
    "square (20)"
   ]
  },
  {
   "cell_type": "code",
   "execution_count": null,
   "id": "c8dd4fab",
   "metadata": {},
   "outputs": [],
   "source": []
  },
  {
   "cell_type": "code",
   "execution_count": 4,
   "id": "0482d998",
   "metadata": {},
   "outputs": [
    {
     "name": "stdout",
     "output_type": "stream",
     "text": [
      "Enter your name Murtuza\n",
      "User Entered:  Murtuza\n"
     ]
    }
   ],
   "source": [
    "name = input(\"Enter your name \")\n",
    "print('User Entered: ', name)"
   ]
  },
  {
   "cell_type": "code",
   "execution_count": 2,
   "id": "ba3808de",
   "metadata": {},
   "outputs": [
    {
     "name": "stdout",
     "output_type": "stream",
     "text": [
      "Enter your age 28\n",
      "User Entered:  28\n"
     ]
    }
   ],
   "source": [
    "age = input(\"Enter your age \")\n",
    "print('User Entered: ', age)"
   ]
  },
  {
   "cell_type": "code",
   "execution_count": 7,
   "id": "cd969e5f",
   "metadata": {},
   "outputs": [
    {
     "name": "stdout",
     "output_type": "stream",
     "text": [
      "What is your name? Tinku\n",
      "it was nice talking to you Mr/Mrs.:  Tinku\n",
      "Enter your age 27\n",
      "Hey you are already  27 year olod Mr/Mrs  Tinku\n"
     ]
    }
   ],
   "source": [
    "name = input(\"What is your name? \")\n",
    "print('it was nice talking to you Mr/Mrs.: ', name)\n",
    "\n",
    "age = input(\"Enter your age \")\n",
    "print(\"Hey you are already \", age , \"year olod Mr/Mrs \", name)"
   ]
  },
  {
   "cell_type": "code",
   "execution_count": 15,
   "id": "ac0612ca",
   "metadata": {},
   "outputs": [
    {
     "name": "stdout",
     "output_type": "stream",
     "text": [
      "Enter your name: Ghulam Murtuza\n",
      "Enter your fathers name: Ghulam Nabi\n",
      "Enter your mothers name: Sabina Khatoon\n",
      "Enter your d/o/b.:28/08/1993\n",
      "Hey Mr./Mrs.  Ghulam Murtuza you have sucessfully registered in Radiant Institute.\n"
     ]
    }
   ],
   "source": [
    "name = input(\"Enter your name: \")\n",
    "fathers_name = input(\"Enter your fathers name: \")\n",
    "mothers_name = input(\"Enter your mothers name: \")\n",
    "Date_of_birth = input(\"Enter your d/o/b.:\")\n",
    "print ('Hey Mr./Mrs. ', name, 'you have sucessfully registered in Radiant Institute.')"
   ]
  },
  {
   "cell_type": "code",
   "execution_count": 16,
   "id": "38e3bee1",
   "metadata": {},
   "outputs": [
    {
     "name": "stdout",
     "output_type": "stream",
     "text": [
      "Enter your maths: 40\n",
      "Enter your science: 55\n",
      "your total marks =  95\n"
     ]
    }
   ],
   "source": [
    "# Test organised by class teacher.\n",
    "maths = int(input(\"Enter your maths: \"))\n",
    "science = int(input(\"Enter your science: \"))\n",
    "total_marks = maths + science    \n",
    "print(\"your total marks = \", maths + science)"
   ]
  },
  {
   "cell_type": "code",
   "execution_count": null,
   "id": "146d5af1",
   "metadata": {},
   "outputs": [],
   "source": []
  }
 ],
 "metadata": {
  "kernelspec": {
   "display_name": "Python 3 (ipykernel)",
   "language": "python",
   "name": "python3"
  },
  "language_info": {
   "codemirror_mode": {
    "name": "ipython",
    "version": 3
   },
   "file_extension": ".py",
   "mimetype": "text/x-python",
   "name": "python",
   "nbconvert_exporter": "python",
   "pygments_lexer": "ipython3",
   "version": "3.9.7"
  }
 },
 "nbformat": 4,
 "nbformat_minor": 5
}
